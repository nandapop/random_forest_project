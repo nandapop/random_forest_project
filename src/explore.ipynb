{
    "cells": [
        {
            "cell_type": "code",
            "execution_count": 38,
            "metadata": {},
            "outputs": [],
            "source": [
                "import pandas as pd\n",
                "import seaborn as sns\n",
                "import numpy as np\n",
                "import matplotlib.pyplot as plt\n",
                "from sklearn.ensemble import RandomForestClassifier\n",
                "from sklearn import metrics\n",
                "from sklearn.metrics import mean_squared_error, confusion_matrix, precision_score, accuracy_score\n",
                "from sklearn.model_selection import GridSearchCV\n",
                "from pickle import dump\n",
                "from sklearn import tree\n"
            ]
        },
        {
            "cell_type": "markdown",
            "metadata": {},
            "source": [
                "Loading the training data of the "
            ]
        },
        {
            "cell_type": "code",
            "execution_count": 30,
            "metadata": {},
            "outputs": [
                {
                    "data": {
                        "text/html": [
                            "<div>\n",
                            "<style scoped>\n",
                            "    .dataframe tbody tr th:only-of-type {\n",
                            "        vertical-align: middle;\n",
                            "    }\n",
                            "\n",
                            "    .dataframe tbody tr th {\n",
                            "        vertical-align: top;\n",
                            "    }\n",
                            "\n",
                            "    .dataframe thead th {\n",
                            "        text-align: right;\n",
                            "    }\n",
                            "</style>\n",
                            "<table border=\"1\" class=\"dataframe\">\n",
                            "  <thead>\n",
                            "    <tr style=\"text-align: right;\">\n",
                            "      <th></th>\n",
                            "      <th>Pregnancies</th>\n",
                            "      <th>Glucose</th>\n",
                            "      <th>BloodPressure</th>\n",
                            "      <th>SkinThickness</th>\n",
                            "      <th>Insulin</th>\n",
                            "      <th>BMI</th>\n",
                            "      <th>DiabetesPedigreeFunction</th>\n",
                            "      <th>Age</th>\n",
                            "    </tr>\n",
                            "  </thead>\n",
                            "  <tbody>\n",
                            "    <tr>\n",
                            "      <th>0</th>\n",
                            "      <td>1</td>\n",
                            "      <td>80</td>\n",
                            "      <td>74</td>\n",
                            "      <td>11</td>\n",
                            "      <td>60</td>\n",
                            "      <td>30.0</td>\n",
                            "      <td>0.527</td>\n",
                            "      <td>22</td>\n",
                            "    </tr>\n",
                            "    <tr>\n",
                            "      <th>1</th>\n",
                            "      <td>2</td>\n",
                            "      <td>119</td>\n",
                            "      <td>0</td>\n",
                            "      <td>0</td>\n",
                            "      <td>0</td>\n",
                            "      <td>19.6</td>\n",
                            "      <td>0.832</td>\n",
                            "      <td>72</td>\n",
                            "    </tr>\n",
                            "    <tr>\n",
                            "      <th>2</th>\n",
                            "      <td>10</td>\n",
                            "      <td>115</td>\n",
                            "      <td>0</td>\n",
                            "      <td>0</td>\n",
                            "      <td>0</td>\n",
                            "      <td>0.0</td>\n",
                            "      <td>0.261</td>\n",
                            "      <td>30</td>\n",
                            "    </tr>\n",
                            "    <tr>\n",
                            "      <th>3</th>\n",
                            "      <td>1</td>\n",
                            "      <td>181</td>\n",
                            "      <td>78</td>\n",
                            "      <td>42</td>\n",
                            "      <td>293</td>\n",
                            "      <td>40.0</td>\n",
                            "      <td>1.258</td>\n",
                            "      <td>22</td>\n",
                            "    </tr>\n",
                            "    <tr>\n",
                            "      <th>4</th>\n",
                            "      <td>4</td>\n",
                            "      <td>97</td>\n",
                            "      <td>60</td>\n",
                            "      <td>23</td>\n",
                            "      <td>0</td>\n",
                            "      <td>28.2</td>\n",
                            "      <td>0.443</td>\n",
                            "      <td>22</td>\n",
                            "    </tr>\n",
                            "  </tbody>\n",
                            "</table>\n",
                            "</div>"
                        ],
                        "text/plain": [
                            "   Pregnancies  Glucose  BloodPressure  SkinThickness  Insulin   BMI  \\\n",
                            "0            1       80             74             11       60  30.0   \n",
                            "1            2      119              0              0        0  19.6   \n",
                            "2           10      115              0              0        0   0.0   \n",
                            "3            1      181             78             42      293  40.0   \n",
                            "4            4       97             60             23        0  28.2   \n",
                            "\n",
                            "   DiabetesPedigreeFunction  Age  \n",
                            "0                     0.527   22  \n",
                            "1                     0.832   72  \n",
                            "2                     0.261   30  \n",
                            "3                     1.258   22  \n",
                            "4                     0.443   22  "
                        ]
                    },
                    "execution_count": 30,
                    "metadata": {},
                    "output_type": "execute_result"
                }
            ],
            "source": [
                "X_train = pd.read_csv(\"/Users/nandapop/Documents/Bootcamp/random_forest_project/data/processed/X_train.csv\")\n",
                "y_train = pd.read_csv(\"/Users/nandapop/Documents/Bootcamp/random_forest_project/data/processed/y_train.csv\")\n",
                "X_test =  pd.read_csv(\"/Users/nandapop/Documents/Bootcamp/random_forest_project/data/processed/X_test.csv\")\n",
                "y_test = pd.read_csv(\"/Users/nandapop/Documents/Bootcamp/random_forest_project/data/processed/y_test.csv\")\n",
                "X_train.head()"
            ]
        },
        {
            "cell_type": "code",
            "execution_count": 41,
            "metadata": {},
            "outputs": [
                {
                    "name": "stderr",
                    "output_type": "stream",
                    "text": [
                        "/Users/nandapop/Library/Python/3.8/lib/python/site-packages/sklearn/base.py:1152: DataConversionWarning: A column-vector y was passed when a 1d array was expected. Please change the shape of y to (n_samples,), for example using ravel().\n",
                        "  return fit_method(estimator, *args, **kwargs)\n",
                        "/Users/nandapop/Library/Python/3.8/lib/python/site-packages/sklearn/base.py:1152: DataConversionWarning: A column-vector y was passed when a 1d array was expected. Please change the shape of y to (n_samples,), for example using ravel().\n",
                        "  return fit_method(estimator, *args, **kwargs)\n",
                        "/Users/nandapop/Library/Python/3.8/lib/python/site-packages/sklearn/base.py:1152: DataConversionWarning: A column-vector y was passed when a 1d array was expected. Please change the shape of y to (n_samples,), for example using ravel().\n",
                        "  return fit_method(estimator, *args, **kwargs)\n",
                        "/Users/nandapop/Library/Python/3.8/lib/python/site-packages/sklearn/base.py:1152: DataConversionWarning: A column-vector y was passed when a 1d array was expected. Please change the shape of y to (n_samples,), for example using ravel().\n",
                        "  return fit_method(estimator, *args, **kwargs)\n",
                        "/Users/nandapop/Library/Python/3.8/lib/python/site-packages/sklearn/base.py:1152: DataConversionWarning: A column-vector y was passed when a 1d array was expected. Please change the shape of y to (n_samples,), for example using ravel().\n",
                        "  return fit_method(estimator, *args, **kwargs)\n",
                        "/Users/nandapop/Library/Python/3.8/lib/python/site-packages/sklearn/base.py:1152: DataConversionWarning: A column-vector y was passed when a 1d array was expected. Please change the shape of y to (n_samples,), for example using ravel().\n",
                        "  return fit_method(estimator, *args, **kwargs)\n",
                        "/Users/nandapop/Library/Python/3.8/lib/python/site-packages/sklearn/base.py:1152: DataConversionWarning: A column-vector y was passed when a 1d array was expected. Please change the shape of y to (n_samples,), for example using ravel().\n",
                        "  return fit_method(estimator, *args, **kwargs)\n",
                        "/Users/nandapop/Library/Python/3.8/lib/python/site-packages/sklearn/base.py:1152: DataConversionWarning: A column-vector y was passed when a 1d array was expected. Please change the shape of y to (n_samples,), for example using ravel().\n",
                        "  return fit_method(estimator, *args, **kwargs)\n",
                        "/Users/nandapop/Library/Python/3.8/lib/python/site-packages/sklearn/base.py:1152: DataConversionWarning: A column-vector y was passed when a 1d array was expected. Please change the shape of y to (n_samples,), for example using ravel().\n",
                        "  return fit_method(estimator, *args, **kwargs)\n",
                        "/Users/nandapop/Library/Python/3.8/lib/python/site-packages/sklearn/base.py:1152: DataConversionWarning: A column-vector y was passed when a 1d array was expected. Please change the shape of y to (n_samples,), for example using ravel().\n",
                        "  return fit_method(estimator, *args, **kwargs)\n",
                        "/Users/nandapop/Library/Python/3.8/lib/python/site-packages/sklearn/base.py:1152: DataConversionWarning: A column-vector y was passed when a 1d array was expected. Please change the shape of y to (n_samples,), for example using ravel().\n",
                        "  return fit_method(estimator, *args, **kwargs)\n",
                        "/Users/nandapop/Library/Python/3.8/lib/python/site-packages/sklearn/base.py:1152: DataConversionWarning: A column-vector y was passed when a 1d array was expected. Please change the shape of y to (n_samples,), for example using ravel().\n",
                        "  return fit_method(estimator, *args, **kwargs)\n",
                        "/Users/nandapop/Library/Python/3.8/lib/python/site-packages/sklearn/base.py:1152: DataConversionWarning: A column-vector y was passed when a 1d array was expected. Please change the shape of y to (n_samples,), for example using ravel().\n",
                        "  return fit_method(estimator, *args, **kwargs)\n",
                        "/Users/nandapop/Library/Python/3.8/lib/python/site-packages/sklearn/base.py:1152: DataConversionWarning: A column-vector y was passed when a 1d array was expected. Please change the shape of y to (n_samples,), for example using ravel().\n",
                        "  return fit_method(estimator, *args, **kwargs)\n",
                        "/Users/nandapop/Library/Python/3.8/lib/python/site-packages/sklearn/base.py:1152: DataConversionWarning: A column-vector y was passed when a 1d array was expected. Please change the shape of y to (n_samples,), for example using ravel().\n",
                        "  return fit_method(estimator, *args, **kwargs)\n",
                        "/Users/nandapop/Library/Python/3.8/lib/python/site-packages/sklearn/base.py:1152: DataConversionWarning: A column-vector y was passed when a 1d array was expected. Please change the shape of y to (n_samples,), for example using ravel().\n",
                        "  return fit_method(estimator, *args, **kwargs)\n",
                        "/Users/nandapop/Library/Python/3.8/lib/python/site-packages/sklearn/base.py:1152: DataConversionWarning: A column-vector y was passed when a 1d array was expected. Please change the shape of y to (n_samples,), for example using ravel().\n",
                        "  return fit_method(estimator, *args, **kwargs)\n",
                        "/Users/nandapop/Library/Python/3.8/lib/python/site-packages/sklearn/base.py:1152: DataConversionWarning: A column-vector y was passed when a 1d array was expected. Please change the shape of y to (n_samples,), for example using ravel().\n",
                        "  return fit_method(estimator, *args, **kwargs)\n",
                        "/Users/nandapop/Library/Python/3.8/lib/python/site-packages/sklearn/base.py:1152: DataConversionWarning: A column-vector y was passed when a 1d array was expected. Please change the shape of y to (n_samples,), for example using ravel().\n",
                        "  return fit_method(estimator, *args, **kwargs)\n",
                        "/Users/nandapop/Library/Python/3.8/lib/python/site-packages/sklearn/base.py:1152: DataConversionWarning: A column-vector y was passed when a 1d array was expected. Please change the shape of y to (n_samples,), for example using ravel().\n",
                        "  return fit_method(estimator, *args, **kwargs)\n",
                        "/Users/nandapop/Library/Python/3.8/lib/python/site-packages/sklearn/base.py:1152: DataConversionWarning: A column-vector y was passed when a 1d array was expected. Please change the shape of y to (n_samples,), for example using ravel().\n",
                        "  return fit_method(estimator, *args, **kwargs)\n"
                    ]
                },
                {
                    "name": "stdout",
                    "output_type": "stream",
                    "text": [
                        "{'max_depth': 4, 'min_samples_leaf': 6}\n"
                    ]
                },
                {
                    "data": {
                        "text/plain": [
                            "0.7659574468085106"
                        ]
                    },
                    "execution_count": 41,
                    "metadata": {},
                    "output_type": "execute_result"
                }
            ],
            "source": [
                "rf = RandomForestClassifier(n_estimators=100,random_state = 0)\n",
                "search_space = {\n",
                "    'max_depth': [4, 8],\n",
                "    'min_samples_leaf': [4,6]\n",
                "}\n",
                "rf_grid = GridSearchCV(rf, search_space, cv=5, scoring='precision').fit(X_train, y_train)\n",
                "rf_grid.score(X_test,y_test)\n"
            ]
        },
        {
            "cell_type": "code",
            "execution_count": 32,
            "metadata": {},
            "outputs": [
                {
                    "data": {
                        "text/plain": [
                            "array([0, 0, 0, 0, 0, 0, 0, 0, 1, 0, 1, 0, 1, 1, 0, 0, 0, 0, 0, 0, 1, 0,\n",
                            "       0, 0, 0, 0, 0, 0, 0, 0, 0, 0, 0, 0, 1, 1, 0, 0, 0, 0, 0, 0, 1, 1,\n",
                            "       0, 1, 0, 0, 1, 1, 0, 0, 0, 0, 0, 1, 0, 0, 0, 0, 0, 0, 0, 0, 0, 1,\n",
                            "       0, 1, 1, 1, 0, 1, 0, 0, 1, 0, 0, 0, 0, 0, 1, 0, 1, 0, 0, 0, 0, 1,\n",
                            "       0, 0, 0, 0, 0, 0, 0, 0, 0, 0, 0, 0, 0, 0, 0, 0, 0, 1, 0, 0, 1, 0,\n",
                            "       0, 0, 0, 0, 0, 1, 1, 1, 0, 1, 0, 1, 0, 1, 1, 0, 1, 0, 0, 1, 0, 0,\n",
                            "       0, 1, 0, 0, 0, 1, 0, 0, 0, 0, 1, 0, 0, 0, 0, 1, 1, 1, 0, 0, 1, 0,\n",
                            "       0, 0, 0, 0, 0, 0, 0, 0, 0, 0, 0, 0, 0, 1, 1, 0, 0, 1, 0, 1, 0, 0,\n",
                            "       1, 0, 0, 0, 0, 0, 0, 0, 0, 0, 0, 1, 0, 0, 0, 1])"
                        ]
                    },
                    "execution_count": 32,
                    "metadata": {},
                    "output_type": "execute_result"
                }
            ],
            "source": [
                "y_pred = rf_grid.predict(X_test)\n",
                "y_pred"
            ]
        },
        {
            "cell_type": "code",
            "execution_count": 33,
            "metadata": {},
            "outputs": [
                {
                    "data": {
                        "text/plain": [
                            "0.21875"
                        ]
                    },
                    "execution_count": 33,
                    "metadata": {},
                    "output_type": "execute_result"
                }
            ],
            "source": [
                "mse = mean_squared_error(y_test, y_pred)\n",
                "mse"
            ]
        },
        {
            "cell_type": "code",
            "execution_count": 39,
            "metadata": {},
            "outputs": [],
            "source": [
                "\n",
                "precision = precision_score(y_test, y_pred)\n",
                "accuracy = accuracy_score(y_test, y_pred)"
            ]
        },
        {
            "cell_type": "markdown",
            "metadata": {},
            "source": [
                "Classification report for this classifier"
            ]
        },
        {
            "cell_type": "code",
            "execution_count": 40,
            "metadata": {},
            "outputs": [
                {
                    "name": "stdout",
                    "output_type": "stream",
                    "text": [
                        "              precision    recall  f1-score   support\n",
                        "\n",
                        "           0       0.91      0.79      0.84       145\n",
                        "           1       0.54      0.77      0.63        47\n",
                        "\n",
                        "    accuracy                           0.78       192\n",
                        "   macro avg       0.72      0.78      0.74       192\n",
                        "weighted avg       0.82      0.78      0.79       192\n",
                        "\n"
                    ]
                }
            ],
            "source": [
                "print(metrics.classification_report(y_pred, y_test))"
            ]
        },
        {
            "cell_type": "code",
            "execution_count": 35,
            "metadata": {},
            "outputs": [
                {
                    "data": {
                        "text/plain": [
                            "Text(113.9222222222222, 0.5, 'predicted label')"
                        ]
                    },
                    "execution_count": 35,
                    "metadata": {},
                    "output_type": "execute_result"
                },
                {
                    "data": {
                        "image/png": "[encoded data removed]",
                        "text/plain": [
                            "<Figure size 640x480 with 1 Axes>"
                        ]
                    },
                    "metadata": {},
                    "output_type": "display_data"
                }
            ],
            "source": [
                "matrix = confusion_matrix(y_test, y_pred)\n",
                "sns.heatmap(matrix, square=True, annot=True, fmt='d', cbar=False)\n",
                "plt.xlabel('true label')\n",
                "plt.ylabel('predicted label')"
            ]
        },
        {
            "cell_type": "code",
            "execution_count": 36,
            "metadata": {},
            "outputs": [],
            "source": [
                "dump(rf_grid, open(\"/Users/nandapop/Documents/Bootcamp/random_forest_project/data/processed/random_forest_regressor_default_0.sav\", \"wb\"))"
            ]
        }
    ],
    "metadata": {
        "kernelspec": {
            "display_name": "Python 3.8.13 64-bit ('3.8.13')",
            "language": "python",
            "name": "python3"
        },
        "language_info": {
            "codemirror_mode": {
                "name": "ipython",
                "version": 3
            },
            "file_extension": ".py",
            "mimetype": "text/x-python",
            "name": "python",
            "nbconvert_exporter": "python",
            "pygments_lexer": "ipython3",
            "version": "3.8.2"
        },
        "orig_nbformat": 4,
        "vscode": {
            "interpreter": {
                "hash": "110cc1dee26208153f2972f08a2ad52b6a56238dc66d48e87fb757ef2996db56"
            }
        }
    },
    "nbformat": 4,
    "nbformat_minor": 2
}
